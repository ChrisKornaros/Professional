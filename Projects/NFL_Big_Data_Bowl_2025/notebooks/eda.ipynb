{
 "cells": [
  {
   "cell_type": "code",
   "execution_count": 5,
   "metadata": {},
   "outputs": [],
   "source": [
    "import duckdb\n",
    "import numpy as np\n",
    "import pandas as pd\n",
    "import matplotlib.pyplot as plt\n",
    "from sklearn.linear_model import LinearRegression\n",
    "from sklearn.model_selection import train_test_split, KFold, cross_val_score\n",
    "from sklearn.metrics import confusion_matrix, classification_report\n"
   ]
  },
  {
   "cell_type": "code",
   "execution_count": 6,
   "metadata": {},
   "outputs": [],
   "source": [
    "# Create the database connection\n",
    "con = duckdb.connect(\".config/nfl.duckdb\")"
   ]
  },
  {
   "cell_type": "code",
   "execution_count": null,
   "metadata": {},
   "outputs": [],
   "source": [
    "# NFL Teams ordered by their wins, descending\n",
    "con.sql(\"\"\"\n",
    "    WITH game_results AS (\n",
    "    SELECT\n",
    "        homeTeamAbbr AS team,\n",
    "        CASE\n",
    "            WHEN homeFinalScore > visitorFinalScore THEN 1\n",
    "            ELSE 0\n",
    "        END AS win,\n",
    "        CASE\n",
    "            WHEN homeFinalScore < visitorFinalScore THEN 1\n",
    "            ELSE 0\n",
    "        END AS loss\n",
    "    FROM bronze.games\n",
    "    UNION ALL\n",
    "    SELECT\n",
    "        visitorTeamAbbr AS team,\n",
    "        CASE\n",
    "            WHEN visitorFinalScore > homeFinalScore THEN 1\n",
    "            ELSE 0\n",
    "        END AS win,\n",
    "        CASE\n",
    "            WHEN visitorFinalScore < homeFinalScore THEN 1\n",
    "            ELSE 0\n",
    "        END AS loss\n",
    "    FROM bronze.games\n",
    "    )\n",
    "    SELECT\n",
    "        team,\n",
    "        SUM(win) AS total_wins,\n",
    "        SUM(loss) AS total_losses\n",
    "    FROM game_results\n",
    "    GROUP BY team\n",
    "    ORDER BY total_wins DESC;\n",
    "\n",
    "\"\"\")"
   ]
  },
  {
   "cell_type": "code",
   "execution_count": 79,
   "metadata": {},
   "outputs": [],
   "source": [
    "# Creating dataframes with DuckDB\n",
    "train = con.sql(\"\"\"\n",
    "    SELECT *\n",
    "    FROM bronze.tracking_week_1\n",
    "    WHERE event != 'NA'\n",
    "        AND o != 'NA'\n",
    "        AND dir != 'NA'\n",
    "        \"\"\").df()\n"
   ]
  },
  {
   "cell_type": "code",
   "execution_count": null,
   "metadata": {},
   "outputs": [],
   "source": [
    "# Generating dummy variables with Pandas\n",
    "train_one_hot = pd.get_dummies(train[[\"event\"]], drop_first = True)\n",
    "train_one_hot = pd.concat([train, train_one_hot], axis=1)\n",
    "train_one_hot = train_one_hot.drop([\"event\"], axis = 1)\n",
    "train_one_hot = train_one_hot.drop(['gameId', 'playId', 'nflId', 'displayName', 'frameId', 'frameType',\n",
    "       'time', 'jerseyNumber', 'playDirection', 'club'], axis = 1)\n",
    "train_one_hot.head()"
   ]
  },
  {
   "cell_type": "code",
   "execution_count": 10,
   "metadata": {},
   "outputs": [
    {
     "data": {
      "text/plain": [
       "┌──────────────────┐\n",
       "│   play_outcome   │\n",
       "│     varchar      │\n",
       "├──────────────────┤\n",
       "│ Sacked           │\n",
       "│ Rushing Play     │\n",
       "│ Intercepted Pass │\n",
       "│ Complete Pass    │\n",
       "│ Incomplete Pass  │\n",
       "└──────────────────┘"
      ]
     },
     "execution_count": 10,
     "metadata": {},
     "output_type": "execute_result"
    }
   ],
   "source": [
    "con.sql(\"SELECT DISTINCT play_outcome FROM bronze.agg_play_summary\")"
   ]
  },
  {
   "cell_type": "code",
   "execution_count": null,
   "metadata": {},
   "outputs": [],
   "source": []
  },
  {
   "cell_type": "code",
   "execution_count": null,
   "metadata": {},
   "outputs": [],
   "source": [
    "# Need to use the predictions to attach the event labels to the dataset to plot\n",
    "# Create scatter plot\n",
    "plt.scatter(X_train, y_train, color=\"blue\")\n",
    "\n",
    "# Create line plot\n",
    "plt.plot(X_train, predictions, color=\"red\")\n",
    "plt.xlabel(\"Play data ($)\")\n",
    "plt.ylabel(\"Event\")\n",
    "\n",
    "# Display the plot\n",
    "plt.show()"
   ]
  }
 ],
 "metadata": {
  "kernelspec": {
   "display_name": "Python 3 (ipykernel)",
   "language": "python",
   "name": "python3"
  },
  "language_info": {
   "codemirror_mode": {
    "name": "ipython",
    "version": 3
   },
   "file_extension": ".py",
   "mimetype": "text/x-python",
   "name": "python",
   "nbconvert_exporter": "python",
   "pygments_lexer": "ipython3",
   "version": "3.9.6"
  }
 },
 "nbformat": 4,
 "nbformat_minor": 2
}
