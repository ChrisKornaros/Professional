{
 "cells": [
  {
   "cell_type": "code",
   "execution_count": 5,
   "metadata": {},
   "outputs": [],
   "source": [
    "import pandas as pd\n",
    "import duckdb\n"
   ]
  },
  {
   "cell_type": "code",
   "execution_count": null,
   "metadata": {},
   "outputs": [],
   "source": [
    "# This creates an in-memory table, as opposed to a persistent one\n",
    "duckdb.sql(\"CREATE TABLE train AS SELECT * FROM 'files/train.csv'\")\n"
   ]
  },
  {
   "cell_type": "code",
   "execution_count": null,
   "metadata": {},
   "outputs": [],
   "source": [
    "# This creates a persistent database, but it doesn't seem to work properly if you add a subdirectory first\n",
    "duckdb.connect(\"files/titanic.duckdb\")"
   ]
  },
  {
   "cell_type": "code",
   "execution_count": null,
   "metadata": {},
   "outputs": [
    {
     "data": {
      "text/plain": [
       "pandas.core.frame.DataFrame"
      ]
     },
     "execution_count": 28,
     "metadata": {},
     "output_type": "execute_result"
    }
   ],
   "source": [
    "# This just shows that it outputs as a Pandas dataframe\n",
    "# Unclear on whether this runs the underlying query if I alias this going forward, or if it just stores the output in Python\n",
    "type(duckdb.sql(\"SELECT * FROM train\").df())"
   ]
  },
  {
   "cell_type": "code",
   "execution_count": null,
   "metadata": {},
   "outputs": [
    {
     "data": {
      "text/plain": [
       "┌───────────────┬──────────────┬─────────────┬────────────┬────────────┬───────────┬─────────┬───────────────────────┬──────────┬───────────┬─────────────────┬────────────────┬──────────────┬─────────────┬────────────────────────┬────────────────────────────────────────────────────────────────────────────────────────────────────────────────────────────────────────────────────────────────────────────────────────────────────────────┐\n",
       "│ database_name │ database_oid │ schema_name │ schema_oid │ table_name │ table_oid │ comment │         tags          │ internal │ temporary │ has_primary_key │ estimated_size │ column_count │ index_count │ check_constraint_count │                                                                                                    sql                                                                                                     │\n",
       "│    varchar    │    int64     │   varchar   │   int64    │  varchar   │   int64   │ varchar │ map(varchar, varchar) │ boolean  │  boolean  │     boolean     │     int64      │    int64     │    int64    │         int64          │                                                                                                  varchar                                                                                                   │\n",
       "├───────────────┼──────────────┼─────────────┼────────────┼────────────┼───────────┼─────────┼───────────────────────┼──────────┼───────────┼─────────────────┼────────────────┼──────────────┼─────────────┼────────────────────────┼────────────────────────────────────────────────────────────────────────────────────────────────────────────────────────────────────────────────────────────────────────────────────────────────────────────┤\n",
       "│ memory        │         1146 │ main        │       1148 │ train      │      1832 │ NULL    │ {}                    │ false    │ false     │ false           │            891 │           12 │           0 │                      0 │ CREATE TABLE train(PassengerId BIGINT, Survived BIGINT, Pclass BIGINT, \"Name\" VARCHAR, Sex VARCHAR, Age DOUBLE, SibSp BIGINT, Parch BIGINT, Ticket VARCHAR, Fare DOUBLE, Cabin VARCHAR, Embarked VARCHAR); │\n",
       "└───────────────┴──────────────┴─────────────┴────────────┴────────────┴───────────┴─────────┴───────────────────────┴──────────┴───────────┴─────────────────┴────────────────┴──────────────┴─────────────┴────────────────────────┴────────────────────────────────────────────────────────────────────────────────────────────────────────────────────────────────────────────────────────────────────────────────────────────────────────────┘"
      ]
     },
     "execution_count": 27,
     "metadata": {},
     "output_type": "execute_result"
    }
   ],
   "source": [
    "# This line shows all of the in-memory (non-persistent/disk stored) tables and some of the meta data\n",
    "# This also includes the SQL CTAS query (this is awesome, I'm blown away)\n",
    "duckdb.sql(\"SELECT * FROM duckdb_tables()\")"
   ]
  }
 ],
 "metadata": {
  "kernelspec": {
   "display_name": "Python 3 (ipykernel)",
   "language": "python",
   "name": "python3"
  }
 },
 "nbformat": 4,
 "nbformat_minor": 2
}
